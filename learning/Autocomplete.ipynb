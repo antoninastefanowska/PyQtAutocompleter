{
 "cells": [
  {
   "cell_type": "code",
   "execution_count": 1,
   "metadata": {
    "id": "qNdJg21jvRQl"
   },
   "outputs": [],
   "source": [
    "from gensim.models import FastText\n",
    "import gensim.downloader as api\n",
    "\n",
    "import ipywidgets as widgets\n",
    "import IPython.display as ipd\n",
    "\n",
    "from spacy.tokens import Doc, DocBin\n",
    "\n",
    "import pandas as pd\n",
    "import numpy as np\n",
    "import tensorflow as tf\n",
    "\n",
    "import spacy\n",
    "import os\n",
    "import ssl"
   ]
  },
  {
   "cell_type": "code",
   "execution_count": 2,
   "metadata": {
    "id": "wuK969igvRQ3"
   },
   "outputs": [],
   "source": [
    "ssl._create_default_https_context = ssl._create_unverified_context"
   ]
  },
  {
   "cell_type": "code",
   "execution_count": 3,
   "metadata": {
    "id": "93pCgNpWvRQ6"
   },
   "outputs": [],
   "source": [
    "docs_data_path = r'../application/resources/models/docs.bin'\n",
    "vectors_data_path = r'../application/resources/models/vectors.bin'\n",
    "model_data_path = r'../application/resources/models/bin/model/'"
   ]
  },
  {
   "cell_type": "markdown",
   "metadata": {
    "id": "XB2rEbQSvRQ8"
   },
   "source": [
    "# Preprocessing"
   ]
  },
  {
   "cell_type": "code",
   "execution_count": 4,
   "metadata": {
    "id": "1mCMla2WvRQ-"
   },
   "outputs": [],
   "source": [
    "nlp = spacy.load('en', disable = ['tagger', 'parser', 'ner'])"
   ]
  },
  {
   "cell_type": "code",
   "execution_count": 5,
   "metadata": {},
   "outputs": [],
   "source": [
    "article_number = 500"
   ]
  },
  {
   "cell_type": "code",
   "execution_count": 6,
   "metadata": {
    "id": "mydnZk5GvRQ_"
   },
   "outputs": [],
   "source": [
    "def tokenize(text):\n",
    "    doc = nlp(text)\n",
    "    tokens = [token.lemma_.lower().strip() if token.lemma_ != '-PRON-' else token.lower_ for token in doc if token.is_alpha and token.is_ascii and not token.is_stop and (token.lemma_.isalpha() or token.lemma_ == '-PRON-')]\n",
    "    return tokens\n",
    "\n",
    "def tokenize_sequence(tokens, token_index):\n",
    "    return tokens[token_index - sequence_size - 1 : token_index - 1]\n",
    "\n",
    "def doc_tokenizer(doc):\n",
    "    tokens = [token.lemma_.lower().strip() if token.lemma_ != '-PRON-' else token.lower_ for token in doc if token.is_alpha and token.is_ascii and not token.is_stop and (token.lemma_.isalpha() or token.lemma_ == '-PRON-')]\n",
    "    return tokens\n",
    "\n",
    "def export_corpus_documents(corpus):\n",
    "    doc_bin = DocBin(attrs = ['LEMMA', 'LOWER'])\n",
    "    for i, item in enumerate(corpus):\n",
    "        doc = nlp(' '.join(item['section_texts']))\n",
    "        removed_indexes = [index for index, token in enumerate(doc) if not token.is_alpha or not token.is_ascii or token.is_stop and (token.lemma_.isalpha() or token.lemma_ == '-PRON-')]\n",
    "        \n",
    "        doc_array = doc.to_array(['LEMMA', 'LOWER'])\n",
    "        doc_array = np.delete(doc_array, removed_indexes, axis=0)\n",
    "        filtered_doc = Doc(doc.vocab, words=[token.text for index, token in enumerate(doc) if index not in removed_indexes])\n",
    "        filtered_doc.from_array(['LEMMA', 'LOWER'], doc_array)\n",
    "        \n",
    "        doc_bin.add(filtered_doc)\n",
    "        if i >= article_number:\n",
    "            break\n",
    "        \n",
    "    docs_data = doc_bin.to_bytes()\n",
    "    file = open(docs_data_path, 'wb')\n",
    "    file.write(docs_data)\n",
    "    file.close()\n",
    "\n",
    "def get_tokens_set(corpus):\n",
    "    tokens_set = []\n",
    "    for i, item in enumerate(corpus):\n",
    "        tokens_set.append(tokenize(' '.join(item['section_texts'])))\n",
    "        if i >= article_number:\n",
    "            break\n",
    "    return tokens_set\n",
    "    \n",
    "def import_corpus_documents():\n",
    "    file = open(docs_data_path, 'rb')\n",
    "    docs_data = file.read()\n",
    "    file.close()\n",
    "    doc_bin = DocBin().from_bytes(docs_data)\n",
    "    return list(doc_bin.get_docs(nlp.vocab))"
   ]
  },
  {
   "cell_type": "code",
   "execution_count": null,
   "metadata": {
    "id": "VUms1c2DvRRC"
   },
   "outputs": [],
   "source": [
    "corpus = api.load('wiki-english-20171001')"
   ]
  },
  {
   "cell_type": "code",
   "execution_count": null,
   "metadata": {
    "id": "FXMA-Edi2pQU"
   },
   "outputs": [],
   "source": [
    "export_corpus_documents(corpus)"
   ]
  },
  {
   "cell_type": "code",
   "execution_count": 5,
   "metadata": {
    "id": "8WTgk2sSvRRE"
   },
   "outputs": [],
   "source": [
    "docs = import_corpus_documents()"
   ]
  },
  {
   "cell_type": "code",
   "execution_count": 51,
   "metadata": {
    "id": "OMHsc5M6AtS7"
   },
   "outputs": [],
   "source": [
    "tokens_set = get_tokens_set(corpus)"
   ]
  },
  {
   "cell_type": "markdown",
   "metadata": {
    "id": "Sx4TlHBJvRRG"
   },
   "source": [
    "# Wektoryzacja"
   ]
  },
  {
   "cell_type": "code",
   "execution_count": 5,
   "metadata": {
    "id": "gLSNgvHJvRRH"
   },
   "outputs": [],
   "source": [
    "sequence_size = 5"
   ]
  },
  {
   "cell_type": "code",
   "execution_count": 7,
   "metadata": {
    "id": "mhJofkUYvRRK"
   },
   "outputs": [],
   "source": [
    "def vectorize(word):\n",
    "    return vectors.wv[word]\n",
    "\n",
    "def export_vectors(vectors):\n",
    "    vectors.save(vectors_data_path)\n",
    "    \n",
    "def import_vectors():\n",
    "    return FastText.load(vectors_data_path)\n",
    "\n",
    "def vectorize_sequence(tokens, token_index):\n",
    "    sequence_vectors = []\n",
    "    for i in range(token_index - sequence_size, token_index):\n",
    "        if i < 0:\n",
    "            sequence_vectors.append(np.zeros(100, dtype='float32'))\n",
    "        else:\n",
    "            try:\n",
    "                sequence_vectors.append(vectorize(tokens[i]))\n",
    "            except KeyError:\n",
    "                sequence_vectors.append(np.zeros(100, dtype='float32'))\n",
    "    return np.array(sequence_vectors)"
   ]
  },
  {
   "cell_type": "code",
   "execution_count": 52,
   "metadata": {
    "id": "_ghxNp72vRRL"
   },
   "outputs": [],
   "source": [
    "vectors = FastText(tokens_set, hs=1, window=sequence_size, iter=100)"
   ]
  },
  {
   "cell_type": "code",
   "execution_count": 53,
   "metadata": {
    "id": "-AbD_8w1V4iC"
   },
   "outputs": [],
   "source": [
    "export_vectors(vectors)"
   ]
  },
  {
   "cell_type": "code",
   "execution_count": 7,
   "metadata": {
    "id": "QCYdCGLtvRRM"
   },
   "outputs": [],
   "source": [
    "vectors = import_vectors()"
   ]
  },
  {
   "cell_type": "markdown",
   "metadata": {
    "id": "1MmLxRbovRRM"
   },
   "source": [
    "# Model"
   ]
  },
  {
   "cell_type": "code",
   "execution_count": 9,
   "metadata": {
    "id": "-_ciMBHKvRRO"
   },
   "outputs": [],
   "source": [
    "def get_data():\n",
    "    input_data = []\n",
    "    output_data = []\n",
    "    for doc in docs:\n",
    "        tokens = doc_tokenizer(doc)\n",
    "        for index, token in enumerate(tokens):\n",
    "            if token in vectors.wv.vocab:\n",
    "                sequence_vectors = vectorize_sequence(tokens, index)\n",
    "\n",
    "                input_data.append(sequence_vectors)\n",
    "                output_data.append(vectors.wv.vocab[token].index)\n",
    "                \n",
    "    return np.array(input_data), np.array(output_data)"
   ]
  },
  {
   "cell_type": "code",
   "execution_count": 10,
   "metadata": {
    "id": "VAvVxXtjvRRR"
   },
   "outputs": [],
   "source": [
    "input_data, output_data = get_data()"
   ]
  },
  {
   "cell_type": "code",
   "execution_count": 11,
   "metadata": {
    "id": "BUmA3HJtvRRT"
   },
   "outputs": [],
   "source": [
    "config = tf.compat.v1.ConfigProto(device_count={'CPU': 8})\n",
    "tf.compat.v1.keras.backend.set_session(tf.compat.v1.Session(config=config))"
   ]
  },
  {
   "cell_type": "code",
   "execution_count": null,
   "metadata": {
    "id": "by43dFVvvRRT"
   },
   "outputs": [],
   "source": [
    "model = tf.keras.Sequential([\n",
    "    tf.keras.layers.GRU(256, input_shape=(input_data.shape[1], input_data.shape[2]), return_sequences=True),\n",
    "    tf.keras.layers.Dropout(0.2),\n",
    "    tf.keras.layers.GRU(256),\n",
    "    tf.keras.layers.Dropout(0.2),\n",
    "    tf.keras.layers.Dense(len(vectors.wv.vocab), activation='softmax')\n",
    "])\n",
    "model.compile(optimizer='adam', loss='sparse_categorical_crossentropy', metrics=['accuracy'])"
   ]
  },
  {
   "cell_type": "code",
   "execution_count": null,
   "metadata": {
    "id": "arC0_-gpvRRU"
   },
   "outputs": [],
   "source": [
    "model.fit(input_data, output_data, epochs=50, batch_size=64)"
   ]
  },
  {
   "cell_type": "code",
   "execution_count": 18,
   "metadata": {
    "id": "ZSCmKhgJvRRV"
   },
   "outputs": [
    {
     "name": "stdout",
     "output_type": "stream",
     "text": [
      "INFO:tensorflow:Assets written to: ./bin/model/assets\n"
     ]
    }
   ],
   "source": [
    "model.save(model_data_path)"
   ]
  },
  {
   "cell_type": "code",
   "execution_count": 8,
   "metadata": {
    "id": "0GcDkl3dvRRW"
   },
   "outputs": [],
   "source": [
    "model = tf.keras.models.load_model(model_data_path)"
   ]
  },
  {
   "cell_type": "code",
   "execution_count": 8,
   "metadata": {
    "id": "sUiDaeOKvRRY"
   },
   "outputs": [],
   "source": [
    "def predict_words(tokens):\n",
    "    input_vectors = np.asarray([vectorize_sequence(tokens, len(tokens))])\n",
    "    output = model.predict(input_vectors)[0]\n",
    "    indexes = np.argpartition(output, -5)[-5:]\n",
    "    words = [vectors.wv.index2word[index] for index in indexes]\n",
    "    return words"
   ]
  },
  {
   "cell_type": "markdown",
   "metadata": {
    "id": "naLXyYicvRRZ"
   },
   "source": [
    "# Prototyp"
   ]
  },
  {
   "cell_type": "code",
   "execution_count": 9,
   "metadata": {
    "colab": {
     "referenced_widgets": [
      "79f14cd1e7b24efa9433fe11974428c8",
      "07bc1e94fbc245d89cc7b720c452554a"
     ]
    },
    "id": "9BG9bWddvRRZ",
    "outputId": "8b5d4451-56cd-4c7c-c42a-81cb20a35675"
   },
   "outputs": [
    {
     "data": {
      "application/vnd.jupyter.widget-view+json": {
       "model_id": "53f2b4fe31e44629a6ccab30b602d1b5",
       "version_major": 2,
       "version_minor": 0
      },
      "text/plain": [
       "Textarea(value='', layout=Layout(width='700px'))"
      ]
     },
     "metadata": {},
     "output_type": "display_data"
    },
    {
     "data": {
      "application/vnd.jupyter.widget-view+json": {
       "model_id": "6faaac682f454cf3909d5f616699fe9e",
       "version_major": 2,
       "version_minor": 0
      },
      "text/plain": [
       "Text(value='', layout=Layout(width='700px'))"
      ]
     },
     "metadata": {},
     "output_type": "display_data"
    }
   ],
   "source": [
    "layout = widgets.Layout(width='700px')\n",
    "in_textbox = widgets.Textarea(layout=layout)\n",
    "out_textbox = widgets.Text(layout=layout)\n",
    "def on_text_changed(change):\n",
    "    if change['type'] == 'change' and change['name'] == 'value':\n",
    "        text = in_textbox.value\n",
    "        if len(text) > 0:\n",
    "            if text[-1] == ' ':\n",
    "                tokens = tokenize(text)\n",
    "                words = predict_words(tokens)\n",
    "                message = ''\n",
    "                for index, word in enumerate(words):\n",
    "                    message += str(index + 1) + ') ' + word + ' '\n",
    "                out_textbox.value = message\n",
    "        else:\n",
    "            out_textbox.value = ''\n",
    "        \n",
    "in_textbox.observe(on_text_changed)\n",
    "\n",
    "display(in_textbox)\n",
    "display(out_textbox)"
   ]
  }
 ],
 "metadata": {
  "colab": {
   "collapsed_sections": [],
   "name": "Autocomplete.ipynb",
   "provenance": []
  },
  "kernelspec": {
   "display_name": "env",
   "language": "python",
   "name": "env"
  },
  "language_info": {
   "codemirror_mode": {
    "name": "ipython",
    "version": 3
   },
   "file_extension": ".py",
   "mimetype": "text/x-python",
   "name": "python",
   "nbconvert_exporter": "python",
   "pygments_lexer": "ipython3",
   "version": "3.6.5"
  }
 },
 "nbformat": 4,
 "nbformat_minor": 4
}
